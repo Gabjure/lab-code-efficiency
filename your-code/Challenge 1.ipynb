{
 "cells": [
  {
   "cell_type": "markdown",
   "metadata": {},
   "source": [
    "# Challenge 1\n",
    "\n",
    "This is a dumb calculator that can add and subtract whole numbers from zero to five.\n",
    "When you run the code, you are prompted to enter two numbers (in the form of English\n",
    "word instead of number) and the operator sign (also in the form of English word).\n",
    "The code will perform the calculation and give the result if your input is what it\n",
    "expects.\n",
    "\n",
    "The code is very long and messy. Refactor it according to what you have learned about\n",
    "code simplicity and efficiency."
   ]
  },
  {
   "cell_type": "code",
   "execution_count": 21,
   "metadata": {
    "ExecuteTime": {
     "end_time": "2020-02-17T09:50:42.123072Z",
     "start_time": "2020-02-17T09:50:42.119342Z"
    }
   },
   "outputs": [],
   "source": [
    "import time"
   ]
  },
  {
   "cell_type": "code",
   "execution_count": 22,
   "metadata": {
    "ExecuteTime": {
     "end_time": "2020-02-17T09:50:42.462403Z",
     "start_time": "2020-02-17T09:50:42.457049Z"
    }
   },
   "outputs": [],
   "source": [
    "def zero_to_five():\n",
    "    '''\n",
    "    Returns a request for input from the numbes zero to five, in the form of writen words.\n",
    "    '''\n",
    "    return input('\\nPlease choose your first number (zero to five): ')\n",
    "\n",
    "def reverse_dic(dic):\n",
    "    '''\n",
    "    reverses dictionaries Key : Value\n",
    "    input: dictionary\n",
    "    output: dictionary\n",
    "    \n",
    "    input: Key_1 : Value_1\n",
    "    output: Value_1 : Key_1\n",
    "    '''\n",
    "    #Dictionary comprehension that creates the inversion of the string_number_dic \n",
    "    rev_dic = {value : key for key, value in dic.items()}\n",
    "    return rev_dic\n"
   ]
  },
  {
   "cell_type": "code",
   "execution_count": 23,
   "metadata": {
    "ExecuteTime": {
     "end_time": "2020-02-17T09:50:42.868861Z",
     "start_time": "2020-02-17T09:50:42.857761Z"
    }
   },
   "outputs": [],
   "source": [
    "def dumb_calculator():\n",
    "    print('Welcome to this calculator! \\n\\nIt can add and subtract whole numbers from 0 to 5')\n",
    "    time.sleep(.5)\n",
    "    a = zero_to_five()    \n",
    "    b = input('\\nWhat do you want to do? plus or minus: ')\n",
    "    c = zero_to_five()\n",
    "\n",
    "    #Dictionary comprehension w/ wrtten numbers into numeric values\n",
    "    str_int_dic = {k:v for v,k in enumerate(['zero', 'one', 'two', 'three', 'four', 'five','six', \n",
    "                           'seven', 'eight', 'nine', 'ten'])}\n",
    "\n",
    "    #function that reverses dictionaty\n",
    "    int_str_dic = reverse_dic(str_int_dic)\n",
    "    \n",
    "    if a in str_int_dic and c in str_int_dic and b  in ('plus', 'minus'):\n",
    "        if b == 'plus':\n",
    "            print(f\"\\n{a} {b} {c} equals {int_str_dic[str_int_dic[a] + str_int_dic[c]]}\")\n",
    "        elif b == 'minus':\n",
    "            if str_int_dic[a] - str_int_dic[c] < 0:\n",
    "                    print(f\"\\n{a} {b} {c} equals negative {int_str_dic[-(str_int_dic[a] - str_int_dic[c])]}\")\n",
    "            else:\n",
    "                print(f\"\\n{a} {b} {c} equals {int_str_dic[str_int_dic[a] - str_int_dic[c]]}\")\n",
    "    else:\n",
    "        print(f\"\\nI am not able to answer this question. Check your input.\")\n",
    "    time.sleep(0.5)\n",
    "    print(f\"\\nThanks for using this calculator, goodbye\")\n",
    "   "
   ]
  },
  {
   "cell_type": "code",
   "execution_count": 24,
   "metadata": {
    "ExecuteTime": {
     "end_time": "2020-02-17T09:50:51.305062Z",
     "start_time": "2020-02-17T09:50:45.033402Z"
    },
    "scrolled": true
   },
   "outputs": [
    {
     "name": "stdout",
     "output_type": "stream",
     "text": [
      "Welcome to this calculator! \n",
      "\n",
      "It can add and subtract whole numbers from 0 to 5\n",
      "\n",
      "Please choose your first number (zero to five): five\n",
      "\n",
      "What do you want to do? plus or minus: minus\n",
      "\n",
      "Please choose your first number (zero to five): five\n",
      "\n",
      "five minus five equals zero\n",
      "\n",
      "Thanks for using this calculator, goodbye\n"
     ]
    }
   ],
   "source": [
    "dumb_calculator()"
   ]
  },
  {
   "cell_type": "code",
   "execution_count": null,
   "metadata": {},
   "outputs": [],
   "source": []
  }
 ],
 "metadata": {
  "kernelspec": {
   "display_name": "Python 3",
   "language": "python",
   "name": "python3"
  },
  "language_info": {
   "codemirror_mode": {
    "name": "ipython",
    "version": 3
   },
   "file_extension": ".py",
   "mimetype": "text/x-python",
   "name": "python",
   "nbconvert_exporter": "python",
   "pygments_lexer": "ipython3",
   "version": "3.7.5"
  }
 },
 "nbformat": 4,
 "nbformat_minor": 2
}
