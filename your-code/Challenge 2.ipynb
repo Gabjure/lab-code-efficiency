{
 "cells": [
  {
   "cell_type": "markdown",
   "metadata": {},
   "source": [
    "# Challenge 2"
   ]
  },
  {
   "cell_type": "markdown",
   "metadata": {},
   "source": [
    "The code below generates a given number of random strings that consists of numbers and \n",
    "lower case English letters. You can also define the range of the variable lengths of\n",
    "the strings being generated.\n",
    "\n",
    "The code is functional but has a lot of room for improvement. Use what you have learned\n",
    "about simple and efficient code, refactor the code."
   ]
  },
  {
   "cell_type": "code",
   "execution_count": 1,
   "metadata": {
    "ExecuteTime": {
     "end_time": "2020-02-17T11:12:01.362135Z",
     "start_time": "2020-02-17T11:12:01.358134Z"
    }
   },
   "outputs": [],
   "source": [
    "import random\n",
    "import sys\n",
    "import string"
   ]
  },
  {
   "cell_type": "code",
   "execution_count": 2,
   "metadata": {
    "ExecuteTime": {
     "end_time": "2020-02-17T11:12:01.812293Z",
     "start_time": "2020-02-17T11:12:01.806635Z"
    }
   },
   "outputs": [],
   "source": [
    "def RSG(length):\n",
    "    '''\n",
    "    *import random\n",
    "    *import string\n",
    "    Random String Generator\n",
    "    Generates a random string with any ascii_lowercase or digits\n",
    "    input: length of string (int)\n",
    "    output: random strings of the given length\n",
    "    '''\n",
    "    return \"\".join([random.choice(string.ascii_lowercase+string.digits) for x in range(length)])"
   ]
  },
  {
   "cell_type": "code",
   "execution_count": 5,
   "metadata": {
    "ExecuteTime": {
     "end_time": "2020-02-17T11:12:21.749562Z",
     "start_time": "2020-02-17T11:12:21.742567Z"
    }
   },
   "outputs": [],
   "source": [
    "def BatchStringGenerator(a, b, n):\n",
    "        if a < b:\n",
    "            r = [RSG(random.choice(range(a, b))) for i in range(n)]\n",
    "        elif a == b:\n",
    "            r = [RSG((a) for i in range(n))]\n",
    "        else:\n",
    "            sys.exit('Incorrect min and max string lengths. Try again.')\n",
    "        return r"
   ]
  },
  {
   "cell_type": "code",
   "execution_count": 7,
   "metadata": {
    "ExecuteTime": {
     "end_time": "2020-02-17T11:12:35.555139Z",
     "start_time": "2020-02-17T11:12:32.014367Z"
    }
   },
   "outputs": [
    {
     "name": "stdout",
     "output_type": "stream",
     "text": [
      "Enter minimum string length: 10\n",
      "Enter maximum string length: 100\n",
      "How many random strings to generate? 50\n",
      "['0jlb9l2mxrl3y0zumyl6uaw30aovyj', '0olmr6kcqcj4kudtt8nu4ial5imii3jvmmnjnwzxy5c7ruzii107kdavkqtuv9k3mdzwn542fis072', 'k6vpjn7ycaugfyxl9h2wg46d4p9wufy5lqlkz6l5395lawiw6jvgfo1z9w7ejqwe', 'jzn68qmvzubu6laz3q1myccvkw83u2uts1twryz3b7', '1qohewhrboqep8rudd3c61mmx9d2f0516cyplmmdwwd', 'd6wecvuk58rby00ug6ka8djtvq6dzeo9wqtiota0pek8z11kmehsac0deqeov9cisrgw9fyy1kpnusl4', 'i3ko9zkv99z5v1ey895at7f7q8y4p6tzoeag3xyi1xd2ll4jyb3fghvxsjduk0eew3uex79sz4opazu7', 'irq07ujckcevikdvqd8wlhwawec', 'knjunrvj7n2l4mco02v9v99my21xdzbloqr490aq7sn9hpb0mgsqqty22g8rw7cjqqgay8r3ylz1ung', 'snookjcc6nv14m49vsun6ke6j4kc3jm7q6vyrzdt6tknj5wf610l0w2xjz1hkdvq7a0libsmz1vujjzdw5wln8fmc', '44g5j2qdzy5ufj9si9cwn3ur0mpyyxjdzy1lbednq2tjw', 'gfnnnzfzrnqv21igs59ypft4nerqv4m0h4hfichgz0dknhiwdajgfv7xsxqgsbyiy74', 'zstevhal41e20xnwdiil6anydzw9fsqut1mchpu6jhffbxg1gytilpfl0omv75', 'uyl456kd5e9ayxrkb74bc6vdmgyedm4mtu9d2', 'utr11gb02mjc3siabxcmix2z2hof8p28vd0utrb2o34otm2cwm3', 'pjr45gmf50vxsmmrprrfiz2t', '40974yyy44drljvsoc6wk94f0074ux1b2o19r', 'c2aa4xzrerrd6wxe4p4vm3wb8uft3l5j4qlxf9fvqjcjurvlu8h4himi5c', '1lktpe8uuzru60hd4w8bk8hk9405wc', '10wmjwjb8f63dgos4z9lef0jpc9095b8aec7jsuikhvgk5jkga7ks6rer5', '87gp8w5zpe6v23lq', 'c1m0evhjzdsqo1s4qgq8411ni85buwp8', 'w5bgvayjo26kd3lnsdofcjyyyhk43nuoh4mbzinv25wgtppw5rkkq7', 'ktatizjtzjp7ayxmtdgs12ag8gl', 'meevq45kioog098alt0pyxuy16enycn9kbxbh76rag1n8vym95j45xbjsnpj1txfgy9hbukgwp4ooigzj09', 'b1cj2b7fivo7wh4h0wug9jro806fbkzqddnu5ns0n3g3eip693pkaff86gc0i13sad0', '9300cdijwj7y6mu1ag384wgxaskpgkh10n0qnwyrnysbcnft8w3cwakjuq847ka6j5n', 'a8s4uoc2mijjfqwubene9m64jr3r3cz6bpmwndo', 'mvlvbk0nv0q1mfuoh50k29', 'axng5uyg52r6h2ro', 'tzuwglrvqoszr4r16', 'r8cifhjblszsl114i8y1zsyu3esjlmq3kvpu85uks9eva2fjbpw', '9fm0a45u7a43mm8hvn528ipgqd391jnz2fd73apjxpp7jl2wxla08ib724nzfanqxlu3o8jy2p9m', '1rvgmj2tao5uc6vb6t', 'j6jqa1ustztbegksc6o4s02wwobawkxkt0d6nfv64mkkygv72m12r3eva2gqnkuv5x7b2m8yqh0f2j3wwb', 'q19lyjdg6bbyey38zaol5z9hc2ael5b67irjzjb', 'hsw6w91xr6lsloha', '26mputl26h2w0db4y05bzvuxgdgpnnlxk0h1ru6mu56z3753mh3cvw1xoi9lnqq9vrtq', 'ol0cmaquuun7k80quar4pd9mt1gi2tqxq54dfww1rmbzl46cju4lwq1fr3dtc0oht62gwm', '01pvka2y8ppavasa7lk3lgndsfs', 'bwoiz0nqucfom4yjcbaeo5wp7irvvn9wzk955io7c4mhmworhw92mvb90d6q3kubwv1u33zow0lxca41gama5gjf', '78b0boeferocwwj3npecqpplejbn3', 'penm13dh5o01u0qa1901', 'roq6u8crxbd5uapb95x13ht5p3xqxp', 'o8cjwuy857be8', 'ffnzfkvayiweu1ievhrnzqnk5jz0p9zmahhma2pvikg2imvtdyqshpssu2k42xjo', 'sj87y6lv5lq04d1dam9w9tevziuo8ncqsok9f2lzl2xawb7piq59hpjlrswwrin5snvpsxtcp4zy4qv', 'jck3wet9lejhr8f1nwtkh54x0n6nj3jja0malw3xk4uf4', 'wpuqhfftzz9rkyxbrikdpcbxwmdg1ph7g', 'uipd581jozpxr65a1no']\n"
     ]
    }
   ],
   "source": [
    "min_length = input('Enter minimum string length: ')\n",
    "max_length = input('Enter maximum string length: ')\n",
    "numb_strings = input('How many random strings to generate? ')\n",
    "\n",
    "print(BatchStringGenerator(int(min_length), int(max_length), int(numb_strings)))"
   ]
  },
  {
   "cell_type": "code",
   "execution_count": null,
   "metadata": {},
   "outputs": [],
   "source": []
  }
 ],
 "metadata": {
  "kernelspec": {
   "display_name": "Python 3",
   "language": "python",
   "name": "python3"
  },
  "language_info": {
   "codemirror_mode": {
    "name": "ipython",
    "version": 3
   },
   "file_extension": ".py",
   "mimetype": "text/x-python",
   "name": "python",
   "nbconvert_exporter": "python",
   "pygments_lexer": "ipython3",
   "version": "3.7.5"
  }
 },
 "nbformat": 4,
 "nbformat_minor": 2
}
